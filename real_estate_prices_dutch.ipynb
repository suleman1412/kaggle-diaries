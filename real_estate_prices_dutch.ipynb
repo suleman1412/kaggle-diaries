{
  "metadata": {
    "kernelspec": {
      "language": "python",
      "display_name": "Python 3",
      "name": "python3"
    },
    "language_info": {
      "name": "python",
      "version": "3.10.13",
      "mimetype": "text/x-python",
      "codemirror_mode": {
        "name": "ipython",
        "version": 3
      },
      "pygments_lexer": "ipython3",
      "nbconvert_exporter": "python",
      "file_extension": ".py"
    },
    "kaggle": {
      "accelerator": "none",
      "dataSources": [
        {
          "sourceId": 8945311,
          "sourceType": "datasetVersion",
          "datasetId": 5382863
        }
      ],
      "dockerImageVersionId": 30746,
      "isInternetEnabled": true,
      "language": "python",
      "sourceType": "notebook",
      "isGpuEnabled": false
    },
    "colab": {
      "provenance": [],
      "include_colab_link": true
    }
  },
  "nbformat_minor": 0,
  "nbformat": 4,
  "cells": [
    {
      "cell_type": "markdown",
      "metadata": {
        "id": "view-in-github",
        "colab_type": "text"
      },
      "source": [
        "<a href=\"https://colab.research.google.com/github/suleman1412/kaggle-diaries/blob/main/real_estate_prices_dutch.ipynb\" target=\"_parent\"><img src=\"https://colab.research.google.com/assets/colab-badge.svg\" alt=\"Open In Colab\"/></a>"
      ]
    },
    {
      "cell_type": "code",
      "source": [
        "# This Python 3 environment comes with many helpful analytics libraries installed\n",
        "# It is defined by the kaggle/python Docker image: https://github.com/kaggle/docker-python\n",
        "# For example, here's several helpful packages to load\n",
        "\n",
        "import numpy as np # linear algebra\n",
        "import pandas as pd # data processing, CSV file I/O (e.g. pd.read_csv)\n",
        "import seaborn as sns\n",
        "import matplotlib.pyplot as plt\n",
        "# Input data files are available in the read-only \"../input/\" directory\n",
        "# For example, running this (by clicking run or pressing Shift+Enter) will list all files under the input directory\n",
        "\n",
        "import os\n",
        "for dirname, _, filenames in os.walk('/kaggle/input'):\n",
        "    for filename in filenames:\n",
        "        print(os.path.join(dirname, filename))\n",
        "\n",
        "# You can write up to 20GB to the current directory (/kaggle/working/) that gets preserved as output when you create a version using \"Save & Run All\"\n",
        "# You can also write temporary files to /kaggle/temp/, but they won't be saved outside of the current session"
      ],
      "metadata": {
        "_uuid": "8f2839f25d086af736a60e9eeb907d3b93b6e0e5",
        "_cell_guid": "b1076dfc-b9ad-4769-8c92-a6c4dae69d19",
        "execution": {
          "iopub.status.busy": "2024-07-29T15:32:59.545201Z",
          "iopub.execute_input": "2024-07-29T15:32:59.545613Z",
          "iopub.status.idle": "2024-07-29T15:33:02.255485Z",
          "shell.execute_reply.started": "2024-07-29T15:32:59.545576Z",
          "shell.execute_reply": "2024-07-29T15:33:02.254287Z"
        },
        "trusted": true,
        "id": "X1YUaSzLOwnW"
      },
      "execution_count": 1,
      "outputs": []
    },
    {
      "cell_type": "code",
      "source": [
        "pd.set_option('display.max_columns', None)"
      ],
      "metadata": {
        "execution": {
          "iopub.status.busy": "2024-07-29T15:33:02.257869Z",
          "iopub.execute_input": "2024-07-29T15:33:02.258782Z",
          "iopub.status.idle": "2024-07-29T15:33:02.263696Z",
          "shell.execute_reply.started": "2024-07-29T15:33:02.258741Z",
          "shell.execute_reply": "2024-07-29T15:33:02.262684Z"
        },
        "trusted": true,
        "id": "MGFVRKwNOwnX"
      },
      "execution_count": null,
      "outputs": []
    },
    {
      "cell_type": "code",
      "source": [
        "raw = pd.read_csv('/kaggle/input/funda-df/funda.csv')"
      ],
      "metadata": {
        "execution": {
          "iopub.status.busy": "2024-07-29T15:33:15.726608Z",
          "iopub.execute_input": "2024-07-29T15:33:15.727005Z",
          "iopub.status.idle": "2024-07-29T15:33:36.239515Z",
          "shell.execute_reply.started": "2024-07-29T15:33:15.726968Z",
          "shell.execute_reply": "2024-07-29T15:33:36.238597Z"
        },
        "trusted": true,
        "id": "Bp0ux4saOwnX"
      },
      "execution_count": null,
      "outputs": []
    },
    {
      "cell_type": "code",
      "source": [
        "df = raw.copy()\n",
        "df"
      ],
      "metadata": {
        "execution": {
          "iopub.status.busy": "2024-07-29T16:04:03.997751Z",
          "iopub.execute_input": "2024-07-29T16:04:03.998274Z",
          "iopub.status.idle": "2024-07-29T16:04:04.096717Z",
          "shell.execute_reply.started": "2024-07-29T16:04:03.998240Z",
          "shell.execute_reply": "2024-07-29T16:04:04.095512Z"
        },
        "trusted": true,
        "id": "9VfOFad9OwnX",
        "outputId": "69447f65-772f-466d-ad65-8dba57fa7ab6"
      },
      "execution_count": null,
      "outputs": [
        {
          "execution_count": 10,
          "output_type": "execute_result",
          "data": {
            "text/plain": "        Unnamed: 0                                                url  \\\n0                0  https://www.funda.nl/detail/koop/amsterdam/app...   \n1                1  https://www.funda.nl/detail/koop/amsterdam/hui...   \n2                2  https://www.funda.nl/detail/koop/amsterdam/app...   \n3                3  https://www.funda.nl/detail/koop/amsterdam/app...   \n4                4  https://www.funda.nl/detail/koop/amsterdam/app...   \n...            ...                                                ...   \n253943      253943  https://www.funda.nl/detail/koop/haarlem/huis-...   \n253944      253944  https://www.funda.nl/detail/koop/nuenen/huis-r...   \n253945      253945  https://www.funda.nl/detail/koop/breda/huis-wi...   \n253946      253946  https://www.funda.nl/detail/koop/nootdorp/appa...   \n253947      253947  https://www.funda.nl/detail/koop/breda/huis-te...   \n\n       post_code              neighborhood       city       province  \\\n0         1011vp                 Rapenburg  amsterdam  Noord-Holland   \n1         1011jn           Zuiderkerkbuurt  amsterdam  Noord-Holland   \n2         1011hd           Zuiderkerkbuurt  amsterdam  Noord-Holland   \n3         1011bh      Scheepvaarthuisbuurt  amsterdam  Noord-Holland   \n4         1011rz                Valkenburg  amsterdam  Noord-Holland   \n...          ...                       ...        ...            ...   \n253943    2014eb  Natuurkundigenbuurt-west    haarlem  Noord-Holland   \n253944    5672te               Nuenen-Zuid     nuenen  Noord-Brabant   \n253945    4834ph                   Ypelaar      breda  Noord-Brabant   \n253946    2631cr      Nootdorp CentrumWest   nootdorp   Zuid-Holland   \n253947    4816ab                   Belcrum      breda  Noord-Brabant   \n\n        asking_price  living_area asking_per_m2  longitude   latitude  \\\n0             385000           51       € 7,549   4.908872  52.370613   \n1            4250000          366      € 11,612   4.897802  52.367764   \n2             474000           62       € 7,645   4.900134  52.370686   \n3            2500000          447       € 5,593   4.904404  52.373670   \n4            3500000          514       € 6,809   4.907461  52.367966   \n...              ...          ...           ...        ...        ...   \n253943        800000          143          5594   4.610116  52.369923   \n253944        490000          130          3769   5.554063  51.465855   \n253945        450000          130          3462   4.811380  51.570446   \n253946        292500           59          4958   4.394028  52.043083   \n253947        425000          142          2993   4.779140  51.599503   \n\n         house_type plot_area bedrooms  total_rooms energy_label  \\\n0       appartement       NaN        1            2            a   \n1          woonhuis       NaN        7           11           na   \n2       appartement       NaN        2            3           na   \n3       appartement       NaN        6           12           na   \n4       appartement       NaN        6           12           na   \n...             ...       ...      ...          ...          ...   \n253943     woonhuis    153 m²        6            7            b   \n253944     woonhuis    226 m²        3            4            c   \n253945     woonhuis    228 m²        4            5            c   \n253946  appartement       NaN       na            1            a   \n253947     woonhuis    184 m²        5            7            f   \n\n        building_form  commerical_space  roof_terrace  garden  balcony  \\\n0       bestaandebouw             False         False   False    False   \n1       bestaandebouw             False         False   False     True   \n2       bestaandebouw             False         False   False    False   \n3       bestaandebouw             False          True   False    False   \n4       bestaandebouw             False         False    True    False   \n...               ...               ...           ...     ...      ...   \n253943  bestaandebouw             False         False    True    False   \n253944  bestaandebouw             False         False    True    False   \n253945  bestaandebouw             False          True    True    False   \n253946  bestaandebouw             False         False   False    False   \n253947  bestaandebouw             False         False    True    False   \n\n        solar_panels broker_association broker broker_webpage  \\\n0              False                 na     na             na   \n1              False                 na     na             na   \n2              False                 na     na             na   \n3              False                 na     na             na   \n4              False                 na     na             na   \n...              ...                ...    ...            ...   \n253943         False                 na     na             na   \n253944         False                 na     na             na   \n253945         False                 na     na             na   \n253946         False                 na     na             na   \n253947         False                 na     na             na   \n\n                                          google_maps_url  asking_price_range  \\\n0       https://www.google.nl/maps/place/Nieuwegrachtj...              375000   \n1       https://www.google.nl/maps/place/Staalkade+4+1...             2000000   \n2       https://www.google.nl/maps/place/Nieuwe+Hoogst...              450000   \n3       https://www.google.nl/maps/place/Binnenkant+21...             2000000   \n4       https://www.google.nl/maps/place/Nieuwe+Hereng...             2000000   \n...                                                   ...                 ...   \n253943  https://www.google.nl/maps/place/Ohmstraat+7+2...              800000   \n253944  https://www.google.nl/maps/place/Refelingse+Er...              450000   \n253945  https://www.google.nl/maps/place/Wildenborgstr...              450000   \n253946  https://www.google.nl/maps/place/Dorpsstraat+1...              275000   \n253947  https://www.google.nl/maps/place/Terheijdensew...              400000   \n\n       market_status                                      brochure_link  \\\n0           verkocht  https://cloud.funda.nl/valentina_media/183/942...   \n1        beschikbaar                                                 na   \n2           verkocht                                                 na   \n3           verkocht                                                 na   \n4           verkocht                                                 na   \n...              ...                                                ...   \n253943   beschikbaar  https://cloud.funda.nl/valentina_media/193/642...   \n253944   beschikbaar  https://cloud.funda.nl/valentina_media/193/642...   \n253945   beschikbaar  https://cloud.funda.nl/valentina_media/193/637...   \n253946   beschikbaar  https://cloud.funda.nl/valentina_media/193/641...   \n253947   beschikbaar  https://cloud.funda.nl/valentina_media/193/639...   \n\n                                              description build_year  \n0       *ENGLISH BELOW*\\r\\n\\r\\nRuim tweekamerapparteme...       1981  \n1       Op één van de mooiste plekken in het hart van ...       1733  \n2       *English text below*\\r\\n\\r\\nOp een geweldige l...       1900  \n3       Binnenkant 21 beletage en sous \\r\\n1011 BH Ams...         vo  \n4       Op een prachtige locatie staat dit bijzondere ...       1685  \n...                                                   ...        ...  \n253943  PUUR* wonen in dit heerlijke gezinshuis, grote...       1931  \n253944  Zeer luxe geschakeld woonhuis met een inpandig...       1972  \n253945  Deze keurige en uitgebouwde eindwoning ligt in...       1968  \n253946  Bent u op zoek naar een aparte woning in het k...       2009  \n253947  Royale, uitgebouwde middenwoning van ruim 140 ...       1959  \n\n[253948 rows x 31 columns]",
            "text/html": "<div>\n<style scoped>\n    .dataframe tbody tr th:only-of-type {\n        vertical-align: middle;\n    }\n\n    .dataframe tbody tr th {\n        vertical-align: top;\n    }\n\n    .dataframe thead th {\n        text-align: right;\n    }\n</style>\n<table border=\"1\" class=\"dataframe\">\n  <thead>\n    <tr style=\"text-align: right;\">\n      <th></th>\n      <th>Unnamed: 0</th>\n      <th>url</th>\n      <th>post_code</th>\n      <th>neighborhood</th>\n      <th>city</th>\n      <th>province</th>\n      <th>asking_price</th>\n      <th>living_area</th>\n      <th>asking_per_m2</th>\n      <th>longitude</th>\n      <th>latitude</th>\n      <th>house_type</th>\n      <th>plot_area</th>\n      <th>bedrooms</th>\n      <th>total_rooms</th>\n      <th>energy_label</th>\n      <th>building_form</th>\n      <th>commerical_space</th>\n      <th>roof_terrace</th>\n      <th>garden</th>\n      <th>balcony</th>\n      <th>solar_panels</th>\n      <th>broker_association</th>\n      <th>broker</th>\n      <th>broker_webpage</th>\n      <th>google_maps_url</th>\n      <th>asking_price_range</th>\n      <th>market_status</th>\n      <th>brochure_link</th>\n      <th>description</th>\n      <th>build_year</th>\n    </tr>\n  </thead>\n  <tbody>\n    <tr>\n      <th>0</th>\n      <td>0</td>\n      <td>https://www.funda.nl/detail/koop/amsterdam/app...</td>\n      <td>1011vp</td>\n      <td>Rapenburg</td>\n      <td>amsterdam</td>\n      <td>Noord-Holland</td>\n      <td>385000</td>\n      <td>51</td>\n      <td>€ 7,549</td>\n      <td>4.908872</td>\n      <td>52.370613</td>\n      <td>appartement</td>\n      <td>NaN</td>\n      <td>1</td>\n      <td>2</td>\n      <td>a</td>\n      <td>bestaandebouw</td>\n      <td>False</td>\n      <td>False</td>\n      <td>False</td>\n      <td>False</td>\n      <td>False</td>\n      <td>na</td>\n      <td>na</td>\n      <td>na</td>\n      <td>https://www.google.nl/maps/place/Nieuwegrachtj...</td>\n      <td>375000</td>\n      <td>verkocht</td>\n      <td>https://cloud.funda.nl/valentina_media/183/942...</td>\n      <td>*ENGLISH BELOW*\\r\\n\\r\\nRuim tweekamerapparteme...</td>\n      <td>1981</td>\n    </tr>\n    <tr>\n      <th>1</th>\n      <td>1</td>\n      <td>https://www.funda.nl/detail/koop/amsterdam/hui...</td>\n      <td>1011jn</td>\n      <td>Zuiderkerkbuurt</td>\n      <td>amsterdam</td>\n      <td>Noord-Holland</td>\n      <td>4250000</td>\n      <td>366</td>\n      <td>€ 11,612</td>\n      <td>4.897802</td>\n      <td>52.367764</td>\n      <td>woonhuis</td>\n      <td>NaN</td>\n      <td>7</td>\n      <td>11</td>\n      <td>na</td>\n      <td>bestaandebouw</td>\n      <td>False</td>\n      <td>False</td>\n      <td>False</td>\n      <td>True</td>\n      <td>False</td>\n      <td>na</td>\n      <td>na</td>\n      <td>na</td>\n      <td>https://www.google.nl/maps/place/Staalkade+4+1...</td>\n      <td>2000000</td>\n      <td>beschikbaar</td>\n      <td>na</td>\n      <td>Op één van de mooiste plekken in het hart van ...</td>\n      <td>1733</td>\n    </tr>\n    <tr>\n      <th>2</th>\n      <td>2</td>\n      <td>https://www.funda.nl/detail/koop/amsterdam/app...</td>\n      <td>1011hd</td>\n      <td>Zuiderkerkbuurt</td>\n      <td>amsterdam</td>\n      <td>Noord-Holland</td>\n      <td>474000</td>\n      <td>62</td>\n      <td>€ 7,645</td>\n      <td>4.900134</td>\n      <td>52.370686</td>\n      <td>appartement</td>\n      <td>NaN</td>\n      <td>2</td>\n      <td>3</td>\n      <td>na</td>\n      <td>bestaandebouw</td>\n      <td>False</td>\n      <td>False</td>\n      <td>False</td>\n      <td>False</td>\n      <td>False</td>\n      <td>na</td>\n      <td>na</td>\n      <td>na</td>\n      <td>https://www.google.nl/maps/place/Nieuwe+Hoogst...</td>\n      <td>450000</td>\n      <td>verkocht</td>\n      <td>na</td>\n      <td>*English text below*\\r\\n\\r\\nOp een geweldige l...</td>\n      <td>1900</td>\n    </tr>\n    <tr>\n      <th>3</th>\n      <td>3</td>\n      <td>https://www.funda.nl/detail/koop/amsterdam/app...</td>\n      <td>1011bh</td>\n      <td>Scheepvaarthuisbuurt</td>\n      <td>amsterdam</td>\n      <td>Noord-Holland</td>\n      <td>2500000</td>\n      <td>447</td>\n      <td>€ 5,593</td>\n      <td>4.904404</td>\n      <td>52.373670</td>\n      <td>appartement</td>\n      <td>NaN</td>\n      <td>6</td>\n      <td>12</td>\n      <td>na</td>\n      <td>bestaandebouw</td>\n      <td>False</td>\n      <td>True</td>\n      <td>False</td>\n      <td>False</td>\n      <td>False</td>\n      <td>na</td>\n      <td>na</td>\n      <td>na</td>\n      <td>https://www.google.nl/maps/place/Binnenkant+21...</td>\n      <td>2000000</td>\n      <td>verkocht</td>\n      <td>na</td>\n      <td>Binnenkant 21 beletage en sous \\r\\n1011 BH Ams...</td>\n      <td>vo</td>\n    </tr>\n    <tr>\n      <th>4</th>\n      <td>4</td>\n      <td>https://www.funda.nl/detail/koop/amsterdam/app...</td>\n      <td>1011rz</td>\n      <td>Valkenburg</td>\n      <td>amsterdam</td>\n      <td>Noord-Holland</td>\n      <td>3500000</td>\n      <td>514</td>\n      <td>€ 6,809</td>\n      <td>4.907461</td>\n      <td>52.367966</td>\n      <td>appartement</td>\n      <td>NaN</td>\n      <td>6</td>\n      <td>12</td>\n      <td>na</td>\n      <td>bestaandebouw</td>\n      <td>False</td>\n      <td>False</td>\n      <td>True</td>\n      <td>False</td>\n      <td>False</td>\n      <td>na</td>\n      <td>na</td>\n      <td>na</td>\n      <td>https://www.google.nl/maps/place/Nieuwe+Hereng...</td>\n      <td>2000000</td>\n      <td>verkocht</td>\n      <td>na</td>\n      <td>Op een prachtige locatie staat dit bijzondere ...</td>\n      <td>1685</td>\n    </tr>\n    <tr>\n      <th>...</th>\n      <td>...</td>\n      <td>...</td>\n      <td>...</td>\n      <td>...</td>\n      <td>...</td>\n      <td>...</td>\n      <td>...</td>\n      <td>...</td>\n      <td>...</td>\n      <td>...</td>\n      <td>...</td>\n      <td>...</td>\n      <td>...</td>\n      <td>...</td>\n      <td>...</td>\n      <td>...</td>\n      <td>...</td>\n      <td>...</td>\n      <td>...</td>\n      <td>...</td>\n      <td>...</td>\n      <td>...</td>\n      <td>...</td>\n      <td>...</td>\n      <td>...</td>\n      <td>...</td>\n      <td>...</td>\n      <td>...</td>\n      <td>...</td>\n      <td>...</td>\n      <td>...</td>\n    </tr>\n    <tr>\n      <th>253943</th>\n      <td>253943</td>\n      <td>https://www.funda.nl/detail/koop/haarlem/huis-...</td>\n      <td>2014eb</td>\n      <td>Natuurkundigenbuurt-west</td>\n      <td>haarlem</td>\n      <td>Noord-Holland</td>\n      <td>800000</td>\n      <td>143</td>\n      <td>5594</td>\n      <td>4.610116</td>\n      <td>52.369923</td>\n      <td>woonhuis</td>\n      <td>153 m²</td>\n      <td>6</td>\n      <td>7</td>\n      <td>b</td>\n      <td>bestaandebouw</td>\n      <td>False</td>\n      <td>False</td>\n      <td>True</td>\n      <td>False</td>\n      <td>False</td>\n      <td>na</td>\n      <td>na</td>\n      <td>na</td>\n      <td>https://www.google.nl/maps/place/Ohmstraat+7+2...</td>\n      <td>800000</td>\n      <td>beschikbaar</td>\n      <td>https://cloud.funda.nl/valentina_media/193/642...</td>\n      <td>PUUR* wonen in dit heerlijke gezinshuis, grote...</td>\n      <td>1931</td>\n    </tr>\n    <tr>\n      <th>253944</th>\n      <td>253944</td>\n      <td>https://www.funda.nl/detail/koop/nuenen/huis-r...</td>\n      <td>5672te</td>\n      <td>Nuenen-Zuid</td>\n      <td>nuenen</td>\n      <td>Noord-Brabant</td>\n      <td>490000</td>\n      <td>130</td>\n      <td>3769</td>\n      <td>5.554063</td>\n      <td>51.465855</td>\n      <td>woonhuis</td>\n      <td>226 m²</td>\n      <td>3</td>\n      <td>4</td>\n      <td>c</td>\n      <td>bestaandebouw</td>\n      <td>False</td>\n      <td>False</td>\n      <td>True</td>\n      <td>False</td>\n      <td>False</td>\n      <td>na</td>\n      <td>na</td>\n      <td>na</td>\n      <td>https://www.google.nl/maps/place/Refelingse+Er...</td>\n      <td>450000</td>\n      <td>beschikbaar</td>\n      <td>https://cloud.funda.nl/valentina_media/193/642...</td>\n      <td>Zeer luxe geschakeld woonhuis met een inpandig...</td>\n      <td>1972</td>\n    </tr>\n    <tr>\n      <th>253945</th>\n      <td>253945</td>\n      <td>https://www.funda.nl/detail/koop/breda/huis-wi...</td>\n      <td>4834ph</td>\n      <td>Ypelaar</td>\n      <td>breda</td>\n      <td>Noord-Brabant</td>\n      <td>450000</td>\n      <td>130</td>\n      <td>3462</td>\n      <td>4.811380</td>\n      <td>51.570446</td>\n      <td>woonhuis</td>\n      <td>228 m²</td>\n      <td>4</td>\n      <td>5</td>\n      <td>c</td>\n      <td>bestaandebouw</td>\n      <td>False</td>\n      <td>True</td>\n      <td>True</td>\n      <td>False</td>\n      <td>False</td>\n      <td>na</td>\n      <td>na</td>\n      <td>na</td>\n      <td>https://www.google.nl/maps/place/Wildenborgstr...</td>\n      <td>450000</td>\n      <td>beschikbaar</td>\n      <td>https://cloud.funda.nl/valentina_media/193/637...</td>\n      <td>Deze keurige en uitgebouwde eindwoning ligt in...</td>\n      <td>1968</td>\n    </tr>\n    <tr>\n      <th>253946</th>\n      <td>253946</td>\n      <td>https://www.funda.nl/detail/koop/nootdorp/appa...</td>\n      <td>2631cr</td>\n      <td>Nootdorp CentrumWest</td>\n      <td>nootdorp</td>\n      <td>Zuid-Holland</td>\n      <td>292500</td>\n      <td>59</td>\n      <td>4958</td>\n      <td>4.394028</td>\n      <td>52.043083</td>\n      <td>appartement</td>\n      <td>NaN</td>\n      <td>na</td>\n      <td>1</td>\n      <td>a</td>\n      <td>bestaandebouw</td>\n      <td>False</td>\n      <td>False</td>\n      <td>False</td>\n      <td>False</td>\n      <td>False</td>\n      <td>na</td>\n      <td>na</td>\n      <td>na</td>\n      <td>https://www.google.nl/maps/place/Dorpsstraat+1...</td>\n      <td>275000</td>\n      <td>beschikbaar</td>\n      <td>https://cloud.funda.nl/valentina_media/193/641...</td>\n      <td>Bent u op zoek naar een aparte woning in het k...</td>\n      <td>2009</td>\n    </tr>\n    <tr>\n      <th>253947</th>\n      <td>253947</td>\n      <td>https://www.funda.nl/detail/koop/breda/huis-te...</td>\n      <td>4816ab</td>\n      <td>Belcrum</td>\n      <td>breda</td>\n      <td>Noord-Brabant</td>\n      <td>425000</td>\n      <td>142</td>\n      <td>2993</td>\n      <td>4.779140</td>\n      <td>51.599503</td>\n      <td>woonhuis</td>\n      <td>184 m²</td>\n      <td>5</td>\n      <td>7</td>\n      <td>f</td>\n      <td>bestaandebouw</td>\n      <td>False</td>\n      <td>False</td>\n      <td>True</td>\n      <td>False</td>\n      <td>False</td>\n      <td>na</td>\n      <td>na</td>\n      <td>na</td>\n      <td>https://www.google.nl/maps/place/Terheijdensew...</td>\n      <td>400000</td>\n      <td>beschikbaar</td>\n      <td>https://cloud.funda.nl/valentina_media/193/639...</td>\n      <td>Royale, uitgebouwde middenwoning van ruim 140 ...</td>\n      <td>1959</td>\n    </tr>\n  </tbody>\n</table>\n<p>253948 rows × 31 columns</p>\n</div>"
          },
          "metadata": {}
        }
      ]
    },
    {
      "cell_type": "code",
      "source": [
        "# Drop outliers\n",
        "outliers = [49726, 143877, 48856, 31356, 98594, 147996]\n",
        "df.drop(index=outliers, inplace=True)"
      ],
      "metadata": {
        "execution": {
          "iopub.status.busy": "2024-07-29T15:33:10.867401Z",
          "iopub.status.idle": "2024-07-29T15:33:10.867832Z",
          "shell.execute_reply.started": "2024-07-29T15:33:10.867638Z",
          "shell.execute_reply": "2024-07-29T15:33:10.867655Z"
        },
        "trusted": true,
        "id": "-12VgN4aOwnX"
      },
      "execution_count": null,
      "outputs": []
    },
    {
      "cell_type": "code",
      "source": [
        "def clean_housing_data(df):\n",
        "\n",
        "    # Handle 'bedrooms' column\n",
        "    df = df[df['bedrooms'] != 'na']\n",
        "    df['bedrooms'] = df['bedrooms'].astype(int)\n",
        "\n",
        "    # Handle 'energy_label' column\n",
        "    df = df[df['energy_label'] != 'na']\n",
        "\n",
        "    # Clean and convert 'plot_area' column\n",
        "    df['plot_area'] = df['plot_area'].str.replace(' m²', '').str.replace('.', '').astype(float)\n",
        "    df = df[df['plot_area'].notnull()] # This removes all apartments\n",
        "\n",
        "    # Handle 'build_year' column\n",
        "    df = df[df['build_year'].notnull()]\n",
        "    df = df[~df['build_year'].isin(['vo', 'na'])]\n",
        "\n",
        "\n",
        "    # Adding an age column\n",
        "    df['build_year'] = df['build_year'].astype(int)\n",
        "    df['age'] = 2024 - df['build_year']\n",
        "\n",
        "    # Select relevant columns\n",
        "    columns_to_keep = ['neighborhood', 'city', 'province', 'asking_price',\n",
        "                       'living_area', 'longitude', 'latitude', 'plot_area',\n",
        "                       'bedrooms', 'total_rooms', 'energy_label', 'building_form',\n",
        "                       'commerical_space', 'roof_terrace', 'garden', 'balcony', 'solar_panels',\n",
        "                       'market_status', 'age']\n",
        "    df = df[columns_to_keep]\n",
        "\n",
        "\n",
        "    # Clean string columns\n",
        "    for col in df.select_dtypes('object').columns:\n",
        "        df[col] = df[col].str.replace('-', '_').str.replace(' ', '_').str.lower()\n",
        "\n",
        "    df.drop_duplicates(inplace=True)\n",
        "    df = df[~df[['latitude','longitude']].duplicated()]\n",
        "    df = df.reset_index(drop=True)\n",
        "    return df"
      ],
      "metadata": {
        "execution": {
          "iopub.status.busy": "2024-07-29T15:36:07.947051Z",
          "iopub.execute_input": "2024-07-29T15:36:07.947453Z",
          "iopub.status.idle": "2024-07-29T15:36:07.959798Z",
          "shell.execute_reply.started": "2024-07-29T15:36:07.947420Z",
          "shell.execute_reply": "2024-07-29T15:36:07.958598Z"
        },
        "trusted": true,
        "id": "GFLcl_1BOwnY"
      },
      "execution_count": null,
      "outputs": []
    },
    {
      "cell_type": "code",
      "source": [
        "from sklearn.preprocessing import LabelEncoder, OrdinalEncoder\n",
        "\n",
        "def encode_housing_features(df):\n",
        "    # Create a copy of the dataframe to avoid modifying the original\n",
        "    encoded_df = df.copy()\n",
        "\n",
        "    # Encode boolean columns\n",
        "    for col in encoded_df.select_dtypes('bool').columns:\n",
        "        encoded_df[col] = encoded_df[col].astype(int)\n",
        "\n",
        "    # Encode market_status\n",
        "    le = LabelEncoder()\n",
        "    encoded_df['market_status_encoded'] = le.fit_transform(encoded_df['market_status'])\n",
        "\n",
        "    # Encode building_form\n",
        "    encoded_df['building_form_encoded'] = encoded_df['building_form'].apply(lambda x: 1 if x == 'bestaandebouw' else 0)\n",
        "\n",
        "    # Encode energy_label\n",
        "    categories = [['g', 'f', 'e', 'd', 'c', 'b', 'a']]\n",
        "    oe = OrdinalEncoder(categories=categories)\n",
        "    encoded_df['energy_label_encoded'] = oe.fit_transform(encoded_df[['energy_label']])\n",
        "\n",
        "    # Encode neighborhood, city, province\n",
        "        # Calculate average asking prices of neighborhoods grouped by city and province\n",
        "    avg_prices_sorted = encoded_df.groupby(['province', 'city', 'neighborhood'])['asking_price'].mean().reset_index().sort_values('asking_price', ascending=False)\n",
        "\n",
        "    location_enc = OrdinalEncoder()\n",
        "    location_enc.fit(avg_prices_sorted[['province', 'city', 'neighborhood']])\n",
        "    encoded_copy = location_enc.transform(encoded_df[['province', 'city', 'neighborhood']])\n",
        "    encoded_copy_df = pd.DataFrame(encoded_copy, columns=['province_enc', 'city_enc', 'neighborhood_enc'])\n",
        "\n",
        "    columns_to_keep = ['province_enc', 'city_enc', 'neighborhood_enc', 'living_area', 'longitude', 'latitude', 'plot_area',\n",
        "                   'bedrooms', 'total_rooms', 'commerical_space', 'roof_terrace', 'garden', 'balcony', 'solar_panels','age' ,\n",
        "                    'market_status_encoded', 'building_form_encoded', 'energy_label_encoded', 'asking_price']\n",
        "\n",
        "    encoded_df = encoded_df.join(encoded_copy_df)\n",
        "\n",
        "    return encoded_df[columns_to_keep]"
      ],
      "metadata": {
        "execution": {
          "iopub.status.busy": "2024-07-29T15:36:08.204796Z",
          "iopub.execute_input": "2024-07-29T15:36:08.205273Z",
          "iopub.status.idle": "2024-07-29T15:36:08.297205Z",
          "shell.execute_reply.started": "2024-07-29T15:36:08.205234Z",
          "shell.execute_reply": "2024-07-29T15:36:08.296072Z"
        },
        "trusted": true,
        "id": "ZJb2uwt1OwnY"
      },
      "execution_count": null,
      "outputs": []
    },
    {
      "cell_type": "code",
      "source": [
        "from sklearn.pipeline import Pipeline\n",
        "from sklearn.base import BaseEstimator, TransformerMixin\n",
        "\n",
        "# First, we need to wrap your functions in custom transformer classes\n",
        "class DataCleaner(BaseEstimator, TransformerMixin):\n",
        "    def fit(self, X, y=None):\n",
        "        return self\n",
        "\n",
        "    def transform(self, X):\n",
        "        return clean_housing_data(X)\n",
        "\n",
        "class FeatureEncoder(BaseEstimator, TransformerMixin):\n",
        "    def fit(self, X, y=None):\n",
        "        return self\n",
        "\n",
        "    def transform(self, X):\n",
        "        return encode_housing_features(X)\n",
        "\n",
        "# Now we can create the pipeline\n",
        "housing_pipeline = Pipeline([\n",
        "    ('cleaner', DataCleaner()),\n",
        "    ('encoder', FeatureEncoder())\n",
        "])"
      ],
      "metadata": {
        "execution": {
          "iopub.status.busy": "2024-07-29T15:36:10.466993Z",
          "iopub.execute_input": "2024-07-29T15:36:10.468102Z",
          "iopub.status.idle": "2024-07-29T15:36:10.484975Z",
          "shell.execute_reply.started": "2024-07-29T15:36:10.468067Z",
          "shell.execute_reply": "2024-07-29T15:36:10.483971Z"
        },
        "trusted": true,
        "id": "jQSMAnh2OwnY"
      },
      "execution_count": null,
      "outputs": []
    },
    {
      "cell_type": "code",
      "source": [
        "processed_df = housing_pipeline.fit_transform(df)\n",
        "processed_df"
      ],
      "metadata": {
        "execution": {
          "iopub.status.busy": "2024-07-29T15:33:10.875467Z",
          "iopub.status.idle": "2024-07-29T15:33:10.875841Z",
          "shell.execute_reply.started": "2024-07-29T15:33:10.875657Z",
          "shell.execute_reply": "2024-07-29T15:33:10.875673Z"
        },
        "trusted": true,
        "id": "ZCNgbHHjOwnY"
      },
      "execution_count": null,
      "outputs": []
    },
    {
      "cell_type": "code",
      "source": [
        "X = processed_df.iloc[:,:-1]\n",
        "y = processed_df.iloc[:,-1:].values.ravel()"
      ],
      "metadata": {
        "execution": {
          "iopub.status.busy": "2024-07-29T15:33:10.877010Z",
          "iopub.status.idle": "2024-07-29T15:33:10.877407Z",
          "shell.execute_reply.started": "2024-07-29T15:33:10.877215Z",
          "shell.execute_reply": "2024-07-29T15:33:10.877232Z"
        },
        "trusted": true,
        "id": "Uh9eRwDVOwnY"
      },
      "execution_count": null,
      "outputs": []
    },
    {
      "cell_type": "code",
      "source": [
        "from sklearn.model_selection import train_test_split, GridSearchCV\n",
        "from sklearn.ensemble import RandomForestRegressor\n",
        "from sklearn.metrics import mean_squared_error, mean_absolute_error, make_scorer, r2_score\n",
        "\n",
        "X_train, X_test, y_train, y_test = train_test_split(X, y, test_size=0.2, random_state=42)\n",
        "param_grid = {\n",
        "    'n_estimators': [10, 25, 50, 100],\n",
        "    'max_depth': [None, 2, 4, 6, 8, 10],\n",
        "    'min_samples_split': [1, 2, 4, 6, 8, 10],\n",
        "    'min_samples_leaf': [1, 2, 4, 6, 8],\n",
        "    'max_features': ['sqrt', 'log2']\n",
        "}\n",
        "\n",
        "\n",
        "# Initialize the RandomForestRegressor\n",
        "rf_regressor = RandomForestRegressor(random_state=42)\n",
        "\n",
        "# Define a scorer\n",
        "mse_scorer = make_scorer(mean_squared_error, greater_is_better=False)\n",
        "\n",
        "# Initialize GridSearchCV with the RandomForestRegressor and parameter grid\n",
        "grid_search = GridSearchCV(estimator=rf_regressor, param_grid=param_grid, cv=2, verbose=3, scoring=mse_scorer, n_jobs=-1)\n",
        "\n",
        "# Fit the model on the training data\n",
        "grid_search.fit(X_train, y_train)\n",
        "\n"
      ],
      "metadata": {
        "execution": {
          "iopub.status.busy": "2024-07-29T15:33:10.879647Z",
          "iopub.status.idle": "2024-07-29T15:33:10.880081Z",
          "shell.execute_reply.started": "2024-07-29T15:33:10.879845Z",
          "shell.execute_reply": "2024-07-29T15:33:10.879862Z"
        },
        "trusted": true,
        "id": "0E6FPO0ROwnY"
      },
      "execution_count": null,
      "outputs": []
    },
    {
      "cell_type": "code",
      "source": [
        "from sklearn.metrics import mean_squared_error, mean_absolute_error, make_scorer, r2_score\n",
        "best_model = grid_search.best_estimator_\n",
        "y_train_pred = best_model.predict(X_train)\n",
        "\n",
        "# Print out evaluation metrics\n",
        "mse = mean_squared_error(y_train, y_train_pred)\n",
        "mae = mean_absolute_error(y_train, y_train_pred)\n",
        "rmse = mse ** 0.5\n",
        "r2 = r2_score(y_train, y_train_pred)\n",
        "\n",
        "print(f\"Mean Squared Error (MSE): {mse}\")\n",
        "print(f\"Mean Absolute Error (MAE): {mae}\")\n",
        "print(f\"Root Mean Squared Error (RMSE): {rmse}\")\n",
        "print(f'R2 score with training predictions: {r2}')\n",
        "plt.hist(y_train, color='blue', alpha=0.5, label='Actual')\n",
        "plt.hist(y_train_pred, color='red', alpha=0.5, label='Predicted')\n",
        "plt.title('Training Data vs Training Predictions')\n",
        "plt.legend()\n",
        "plt.show()"
      ],
      "metadata": {
        "execution": {
          "iopub.status.busy": "2024-07-29T15:33:10.881833Z",
          "iopub.status.idle": "2024-07-29T15:33:10.882375Z",
          "shell.execute_reply.started": "2024-07-29T15:33:10.882111Z",
          "shell.execute_reply": "2024-07-29T15:33:10.882133Z"
        },
        "trusted": true,
        "id": "XCnOjD5NOwnZ"
      },
      "execution_count": null,
      "outputs": []
    },
    {
      "cell_type": "code",
      "source": [
        "y_test_pred = best_model.predict(X_test)\n",
        "mse = mean_squared_error(y_test, y_test_pred)\n",
        "mae = mean_absolute_error(y_test, y_test_pred)\n",
        "rmse = mse ** 0.5\n",
        "r2 = r2_score(y_test, y_test_pred)\n",
        "\n",
        "print(f\"Mean Squared Error (MSE): {mse}\")\n",
        "print(f\"Mean Absolute Error (MAE): {mae}\")\n",
        "print(f\"Root Mean Squared Error (RMSE): {rmse}\")\n",
        "print(f'R2 score with testing predictions: {r2}')\n",
        "plt.hist(y_test, color='blue', alpha=0.5, label='Actual')\n",
        "plt.hist(y_test_pred, color='red', alpha=0.5, label='Predicted')\n",
        "plt.title('Testing Data vs Testing Predictions')\n",
        "plt.legend()\n",
        "plt.show()"
      ],
      "metadata": {
        "execution": {
          "iopub.status.busy": "2024-07-29T15:33:10.883647Z",
          "iopub.status.idle": "2024-07-29T15:33:10.884082Z",
          "shell.execute_reply.started": "2024-07-29T15:33:10.883847Z",
          "shell.execute_reply": "2024-07-29T15:33:10.883864Z"
        },
        "trusted": true,
        "id": "LvrktWtKOwnZ"
      },
      "execution_count": null,
      "outputs": []
    },
    {
      "cell_type": "code",
      "source": [
        "import joblib"
      ],
      "metadata": {
        "execution": {
          "iopub.status.busy": "2024-07-29T16:10:41.557412Z",
          "iopub.execute_input": "2024-07-29T16:10:41.557807Z",
          "iopub.status.idle": "2024-07-29T16:10:41.563099Z",
          "shell.execute_reply.started": "2024-07-29T16:10:41.557778Z",
          "shell.execute_reply": "2024-07-29T16:10:41.561775Z"
        },
        "trusted": true,
        "id": "oY0RX9m8OwnZ"
      },
      "execution_count": null,
      "outputs": []
    },
    {
      "cell_type": "code",
      "source": [
        "loaded_preprocessing_pipeline = joblib.load('best_model_randomforest.joblib')\n",
        "loaded_preprocessing_pipeline"
      ],
      "metadata": {
        "execution": {
          "iopub.status.busy": "2024-07-29T16:10:44.778889Z",
          "iopub.execute_input": "2024-07-29T16:10:44.779369Z",
          "iopub.status.idle": "2024-07-29T16:10:46.213282Z",
          "shell.execute_reply.started": "2024-07-29T16:10:44.779335Z",
          "shell.execute_reply": "2024-07-29T16:10:46.212167Z"
        },
        "trusted": true,
        "id": "9E1_1TvYOwnZ",
        "outputId": "31a3507e-1312-4e12-bd98-40e69122cc4c"
      },
      "execution_count": null,
      "outputs": [
        {
          "execution_count": 23,
          "output_type": "execute_result",
          "data": {
            "text/plain": "RandomForestRegressor(max_features='sqrt', min_samples_split=4, random_state=42)",
            "text/html": "<style>#sk-container-id-1 {color: black;background-color: white;}#sk-container-id-1 pre{padding: 0;}#sk-container-id-1 div.sk-toggleable {background-color: white;}#sk-container-id-1 label.sk-toggleable__label {cursor: pointer;display: block;width: 100%;margin-bottom: 0;padding: 0.3em;box-sizing: border-box;text-align: center;}#sk-container-id-1 label.sk-toggleable__label-arrow:before {content: \"▸\";float: left;margin-right: 0.25em;color: #696969;}#sk-container-id-1 label.sk-toggleable__label-arrow:hover:before {color: black;}#sk-container-id-1 div.sk-estimator:hover label.sk-toggleable__label-arrow:before {color: black;}#sk-container-id-1 div.sk-toggleable__content {max-height: 0;max-width: 0;overflow: hidden;text-align: left;background-color: #f0f8ff;}#sk-container-id-1 div.sk-toggleable__content pre {margin: 0.2em;color: black;border-radius: 0.25em;background-color: #f0f8ff;}#sk-container-id-1 input.sk-toggleable__control:checked~div.sk-toggleable__content {max-height: 200px;max-width: 100%;overflow: auto;}#sk-container-id-1 input.sk-toggleable__control:checked~label.sk-toggleable__label-arrow:before {content: \"▾\";}#sk-container-id-1 div.sk-estimator input.sk-toggleable__control:checked~label.sk-toggleable__label {background-color: #d4ebff;}#sk-container-id-1 div.sk-label input.sk-toggleable__control:checked~label.sk-toggleable__label {background-color: #d4ebff;}#sk-container-id-1 input.sk-hidden--visually {border: 0;clip: rect(1px 1px 1px 1px);clip: rect(1px, 1px, 1px, 1px);height: 1px;margin: -1px;overflow: hidden;padding: 0;position: absolute;width: 1px;}#sk-container-id-1 div.sk-estimator {font-family: monospace;background-color: #f0f8ff;border: 1px dotted black;border-radius: 0.25em;box-sizing: border-box;margin-bottom: 0.5em;}#sk-container-id-1 div.sk-estimator:hover {background-color: #d4ebff;}#sk-container-id-1 div.sk-parallel-item::after {content: \"\";width: 100%;border-bottom: 1px solid gray;flex-grow: 1;}#sk-container-id-1 div.sk-label:hover label.sk-toggleable__label {background-color: #d4ebff;}#sk-container-id-1 div.sk-serial::before {content: \"\";position: absolute;border-left: 1px solid gray;box-sizing: border-box;top: 0;bottom: 0;left: 50%;z-index: 0;}#sk-container-id-1 div.sk-serial {display: flex;flex-direction: column;align-items: center;background-color: white;padding-right: 0.2em;padding-left: 0.2em;position: relative;}#sk-container-id-1 div.sk-item {position: relative;z-index: 1;}#sk-container-id-1 div.sk-parallel {display: flex;align-items: stretch;justify-content: center;background-color: white;position: relative;}#sk-container-id-1 div.sk-item::before, #sk-container-id-1 div.sk-parallel-item::before {content: \"\";position: absolute;border-left: 1px solid gray;box-sizing: border-box;top: 0;bottom: 0;left: 50%;z-index: -1;}#sk-container-id-1 div.sk-parallel-item {display: flex;flex-direction: column;z-index: 1;position: relative;background-color: white;}#sk-container-id-1 div.sk-parallel-item:first-child::after {align-self: flex-end;width: 50%;}#sk-container-id-1 div.sk-parallel-item:last-child::after {align-self: flex-start;width: 50%;}#sk-container-id-1 div.sk-parallel-item:only-child::after {width: 0;}#sk-container-id-1 div.sk-dashed-wrapped {border: 1px dashed gray;margin: 0 0.4em 0.5em 0.4em;box-sizing: border-box;padding-bottom: 0.4em;background-color: white;}#sk-container-id-1 div.sk-label label {font-family: monospace;font-weight: bold;display: inline-block;line-height: 1.2em;}#sk-container-id-1 div.sk-label-container {text-align: center;}#sk-container-id-1 div.sk-container {/* jupyter's `normalize.less` sets `[hidden] { display: none; }` but bootstrap.min.css set `[hidden] { display: none !important; }` so we also need the `!important` here to be able to override the default hidden behavior on the sphinx rendered scikit-learn.org. See: https://github.com/scikit-learn/scikit-learn/issues/21755 */display: inline-block !important;position: relative;}#sk-container-id-1 div.sk-text-repr-fallback {display: none;}</style><div id=\"sk-container-id-1\" class=\"sk-top-container\"><div class=\"sk-text-repr-fallback\"><pre>RandomForestRegressor(max_features=&#x27;sqrt&#x27;, min_samples_split=4, random_state=42)</pre><b>In a Jupyter environment, please rerun this cell to show the HTML representation or trust the notebook. <br />On GitHub, the HTML representation is unable to render, please try loading this page with nbviewer.org.</b></div><div class=\"sk-container\" hidden><div class=\"sk-item\"><div class=\"sk-estimator sk-toggleable\"><input class=\"sk-toggleable__control sk-hidden--visually\" id=\"sk-estimator-id-1\" type=\"checkbox\" checked><label for=\"sk-estimator-id-1\" class=\"sk-toggleable__label sk-toggleable__label-arrow\">RandomForestRegressor</label><div class=\"sk-toggleable__content\"><pre>RandomForestRegressor(max_features=&#x27;sqrt&#x27;, min_samples_split=4, random_state=42)</pre></div></div></div></div></div>"
          },
          "metadata": {}
        }
      ]
    },
    {
      "cell_type": "code",
      "source": [
        "import lightgbm as lgb\n",
        "from sklearn.model_selection import train_test_split\n",
        "from sklearn.metrics import mean_squared_error, r2_score\n",
        "import numpy as np\n",
        "\n",
        "# Assuming you have your preprocessed data in 'processed_df'\n",
        "# and your target variable is 'target'\n",
        "\n",
        "\n",
        "X_train, X_test, y_train, y_test = train_test_split(X, y, test_size=0.25, random_state=42)\n",
        "\n",
        "# Set up the LightGBM parameters\n",
        "params = {\n",
        "    'objective': 'regression',\n",
        "    'metric': 'mse',\n",
        "    'num_leaves': 31,\n",
        "    'learning_rate': 0.05,\n",
        "    'feature_fraction': 0.9,\n",
        "    'bagging_fraction': 0.8,\n",
        "    'bagging_freq': 5,\n",
        "    'verbose': 0\n",
        "}\n",
        "\n",
        "# Create the LightGBM datasets\n",
        "train_data = lgb.Dataset(X_train, label=y_train)\n",
        "test_data = lgb.Dataset(X_test, label=y_test)\n",
        "\n",
        "# Train the model\n",
        "model = lgb.train(params, train_data, num_boost_round=1000,\n",
        "                  valid_sets=[test_data])\n",
        "\n",
        "# Make predictions\n",
        "y_train_pred = model.predict(X_train, num_iteration=model.best_iteration)\n",
        "\n",
        "# Evaluate the model\n",
        "mse = mean_squared_error(y_train, y_train_pred)\n",
        "rmse = np.sqrt(mse)\n",
        "r2 = r2_score(y_train, y_train_pred)\n",
        "\n",
        "print(f\"RMSE: {rmse}\")\n",
        "print(f\"R2 Score: {r2}\")"
      ],
      "metadata": {
        "execution": {
          "iopub.status.busy": "2024-07-29T15:33:10.890566Z",
          "iopub.status.idle": "2024-07-29T15:33:10.891040Z",
          "shell.execute_reply.started": "2024-07-29T15:33:10.890783Z",
          "shell.execute_reply": "2024-07-29T15:33:10.890802Z"
        },
        "trusted": true,
        "id": "8MAvTzfUOwnZ"
      },
      "execution_count": null,
      "outputs": []
    },
    {
      "cell_type": "code",
      "source": [
        "y_test_pred = model.predict(X_test, num_iteration=model.best_iteration)\n",
        "# Evaluate the model\n",
        "mse = mean_squared_error(y_test, y_test_pred)\n",
        "rmse = np.sqrt(mse)\n",
        "r2 = r2_score(y_test, y_test_pred)\n",
        "\n",
        "print(f\"RMSE: {rmse}\")\n",
        "print(f\"R2 Score: {r2}\")"
      ],
      "metadata": {
        "execution": {
          "iopub.status.busy": "2024-07-29T15:33:10.892255Z",
          "iopub.status.idle": "2024-07-29T15:33:10.892622Z",
          "shell.execute_reply.started": "2024-07-29T15:33:10.892440Z",
          "shell.execute_reply": "2024-07-29T15:33:10.892456Z"
        },
        "trusted": true,
        "id": "lBuXusYiOwnZ"
      },
      "execution_count": null,
      "outputs": []
    },
    {
      "cell_type": "code",
      "source": [
        "dummy_data = pd.DataFrame([{\n",
        "    'province_enc': 0,\n",
        "    'city_enc': 54,\n",
        "    'neighborhood_enc': 2134,\n",
        "    'living_area': 64,\n",
        "    'longitude': 4.407900490993913,\n",
        "    'latitude': 51.91541688552802,\n",
        "    'plot_area': 74,\n",
        "    'bedrooms': 1,\n",
        "    'total_rooms': 2,\n",
        "    'commerical_space': 0,\n",
        "    'roof_terrace': 0,\n",
        "    'garden': 0,\n",
        "    'balcony': 0,\n",
        "    'solar_panels': 0,\n",
        "    'age': 91,\n",
        "    'market_status_encoded': 1,\n",
        "    'building_form_encoded': 0,\n",
        "    'energy_label_encoded': 6,\n",
        "\n",
        "}])"
      ],
      "metadata": {
        "execution": {
          "iopub.status.busy": "2024-07-29T16:12:50.860636Z",
          "iopub.execute_input": "2024-07-29T16:12:50.861101Z",
          "iopub.status.idle": "2024-07-29T16:12:50.870121Z",
          "shell.execute_reply.started": "2024-07-29T16:12:50.861067Z",
          "shell.execute_reply": "2024-07-29T16:12:50.868850Z"
        },
        "trusted": true,
        "id": "aKKzBpGMOwnZ"
      },
      "execution_count": null,
      "outputs": []
    },
    {
      "cell_type": "code",
      "source": [
        "loaded_preprocessing_pipeline.predict(dummy_data)"
      ],
      "metadata": {
        "execution": {
          "iopub.status.busy": "2024-07-29T16:12:52.690814Z",
          "iopub.execute_input": "2024-07-29T16:12:52.691216Z",
          "iopub.status.idle": "2024-07-29T16:12:52.714276Z",
          "shell.execute_reply.started": "2024-07-29T16:12:52.691187Z",
          "shell.execute_reply": "2024-07-29T16:12:52.713149Z"
        },
        "trusted": true,
        "id": "lDclFVf7OwnZ",
        "outputId": "c7c5451c-01d8-4e90-fcbb-7b71ee7b6e2c"
      },
      "execution_count": null,
      "outputs": [
        {
          "execution_count": 29,
          "output_type": "execute_result",
          "data": {
            "text/plain": "array([276321.44047619])"
          },
          "metadata": {}
        }
      ]
    },
    {
      "cell_type": "code",
      "source": [],
      "metadata": {
        "id": "HmWCd7ONOwnZ"
      },
      "execution_count": null,
      "outputs": []
    }
  ]
}