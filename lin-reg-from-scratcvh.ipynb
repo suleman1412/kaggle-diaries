{
 "cells": [
  {
   "cell_type": "code",
   "execution_count": 1,
   "id": "d51de80a",
   "metadata": {
    "_cell_guid": "b1076dfc-b9ad-4769-8c92-a6c4dae69d19",
    "_uuid": "8f2839f25d086af736a60e9eeb907d3b93b6e0e5",
    "execution": {
     "iopub.execute_input": "2024-07-18T02:54:27.839457Z",
     "iopub.status.busy": "2024-07-18T02:54:27.839034Z",
     "iopub.status.idle": "2024-07-18T02:54:28.683751Z",
     "shell.execute_reply": "2024-07-18T02:54:28.682344Z"
    },
    "papermill": {
     "duration": 0.855684,
     "end_time": "2024-07-18T02:54:28.686985",
     "exception": false,
     "start_time": "2024-07-18T02:54:27.831301",
     "status": "completed"
    },
    "tags": []
   },
   "outputs": [
    {
     "name": "stdout",
     "output_type": "stream",
     "text": [
      "/kaggle/input/coursera-machine-learning-andrew-ng/week_1-ex_1.txt\n",
      "/kaggle/input/coursera-machine-learning-andrew-ng/week_3-ex_2.txt\n",
      "/kaggle/input/coursera-machine-learning-andrew-ng/week_4-ex_2.txt\n",
      "/kaggle/input/coursera-machine-learning-andrew-ng/week_2-ex_1.txt\n"
     ]
    }
   ],
   "source": [
    "# This Python 3 environment comes with many helpful analytics libraries installed\n",
    "# It is defined by the kaggle/python Docker image: https://github.com/kaggle/docker-python\n",
    "# For example, here's several helpful packages to load\n",
    "\n",
    "import numpy as np # linear algebra\n",
    "import pandas as pd # data processing, CSV file I/O (e.g. pd.read_csv)\n",
    "import matplotlib.pyplot as plt\n",
    "# Input data files are available in the read-only \"../input/\" directory\n",
    "# For example, running this (by clicking run or pressing Shift+Enter) will list all files under the input directory\n",
    "\n",
    "import os\n",
    "for dirname, _, filenames in os.walk('/kaggle/input'):\n",
    "    for filename in filenames:\n",
    "        print(os.path.join(dirname, filename))\n",
    "\n",
    "# You can write up to 20GB to the current directory (/kaggle/working/) that gets preserved as output when you create a version using \"Save & Run All\" \n",
    "# You can also write temporary files to /kaggle/temp/, but they won't be saved outside of the current session"
   ]
  },
  {
   "cell_type": "code",
   "execution_count": 2,
   "id": "0822958c",
   "metadata": {
    "execution": {
     "iopub.execute_input": "2024-07-18T02:54:28.700851Z",
     "iopub.status.busy": "2024-07-18T02:54:28.700293Z",
     "iopub.status.idle": "2024-07-18T02:54:28.722432Z",
     "shell.execute_reply": "2024-07-18T02:54:28.721271Z"
    },
    "papermill": {
     "duration": 0.032167,
     "end_time": "2024-07-18T02:54:28.724985",
     "exception": false,
     "start_time": "2024-07-18T02:54:28.692818",
     "status": "completed"
    },
    "tags": []
   },
   "outputs": [],
   "source": [
    "df = pd.read_csv('/kaggle/input/coursera-machine-learning-andrew-ng/week_1-ex_1.txt', header=None)"
   ]
  },
  {
   "cell_type": "code",
   "execution_count": 3,
   "id": "190af52c",
   "metadata": {
    "execution": {
     "iopub.execute_input": "2024-07-18T02:54:28.737745Z",
     "iopub.status.busy": "2024-07-18T02:54:28.737347Z",
     "iopub.status.idle": "2024-07-18T02:54:28.763345Z",
     "shell.execute_reply": "2024-07-18T02:54:28.762209Z"
    },
    "papermill": {
     "duration": 0.035233,
     "end_time": "2024-07-18T02:54:28.765847",
     "exception": false,
     "start_time": "2024-07-18T02:54:28.730614",
     "status": "completed"
    },
    "tags": []
   },
   "outputs": [
    {
     "data": {
      "text/html": [
       "<div>\n",
       "<style scoped>\n",
       "    .dataframe tbody tr th:only-of-type {\n",
       "        vertical-align: middle;\n",
       "    }\n",
       "\n",
       "    .dataframe tbody tr th {\n",
       "        vertical-align: top;\n",
       "    }\n",
       "\n",
       "    .dataframe thead th {\n",
       "        text-align: right;\n",
       "    }\n",
       "</style>\n",
       "<table border=\"1\" class=\"dataframe\">\n",
       "  <thead>\n",
       "    <tr style=\"text-align: right;\">\n",
       "      <th></th>\n",
       "      <th>0</th>\n",
       "      <th>1</th>\n",
       "    </tr>\n",
       "  </thead>\n",
       "  <tbody>\n",
       "    <tr>\n",
       "      <th>0</th>\n",
       "      <td>6.1101</td>\n",
       "      <td>17.59200</td>\n",
       "    </tr>\n",
       "    <tr>\n",
       "      <th>1</th>\n",
       "      <td>5.5277</td>\n",
       "      <td>9.13020</td>\n",
       "    </tr>\n",
       "    <tr>\n",
       "      <th>2</th>\n",
       "      <td>8.5186</td>\n",
       "      <td>13.66200</td>\n",
       "    </tr>\n",
       "    <tr>\n",
       "      <th>3</th>\n",
       "      <td>7.0032</td>\n",
       "      <td>11.85400</td>\n",
       "    </tr>\n",
       "    <tr>\n",
       "      <th>4</th>\n",
       "      <td>5.8598</td>\n",
       "      <td>6.82330</td>\n",
       "    </tr>\n",
       "    <tr>\n",
       "      <th>...</th>\n",
       "      <td>...</td>\n",
       "      <td>...</td>\n",
       "    </tr>\n",
       "    <tr>\n",
       "      <th>92</th>\n",
       "      <td>5.8707</td>\n",
       "      <td>7.20290</td>\n",
       "    </tr>\n",
       "    <tr>\n",
       "      <th>93</th>\n",
       "      <td>5.3054</td>\n",
       "      <td>1.98690</td>\n",
       "    </tr>\n",
       "    <tr>\n",
       "      <th>94</th>\n",
       "      <td>8.2934</td>\n",
       "      <td>0.14454</td>\n",
       "    </tr>\n",
       "    <tr>\n",
       "      <th>95</th>\n",
       "      <td>13.3940</td>\n",
       "      <td>9.05510</td>\n",
       "    </tr>\n",
       "    <tr>\n",
       "      <th>96</th>\n",
       "      <td>5.4369</td>\n",
       "      <td>0.61705</td>\n",
       "    </tr>\n",
       "  </tbody>\n",
       "</table>\n",
       "<p>97 rows × 2 columns</p>\n",
       "</div>"
      ],
      "text/plain": [
       "          0         1\n",
       "0    6.1101  17.59200\n",
       "1    5.5277   9.13020\n",
       "2    8.5186  13.66200\n",
       "3    7.0032  11.85400\n",
       "4    5.8598   6.82330\n",
       "..      ...       ...\n",
       "92   5.8707   7.20290\n",
       "93   5.3054   1.98690\n",
       "94   8.2934   0.14454\n",
       "95  13.3940   9.05510\n",
       "96   5.4369   0.61705\n",
       "\n",
       "[97 rows x 2 columns]"
      ]
     },
     "execution_count": 3,
     "metadata": {},
     "output_type": "execute_result"
    }
   ],
   "source": [
    "df"
   ]
  },
  {
   "cell_type": "code",
   "execution_count": 4,
   "id": "52a10583",
   "metadata": {
    "execution": {
     "iopub.execute_input": "2024-07-18T02:54:28.779763Z",
     "iopub.status.busy": "2024-07-18T02:54:28.778803Z",
     "iopub.status.idle": "2024-07-18T02:54:28.783947Z",
     "shell.execute_reply": "2024-07-18T02:54:28.782911Z"
    },
    "papermill": {
     "duration": 0.01446,
     "end_time": "2024-07-18T02:54:28.786205",
     "exception": false,
     "start_time": "2024-07-18T02:54:28.771745",
     "status": "completed"
    },
    "tags": []
   },
   "outputs": [],
   "source": [
    "df.columns = ['X','y']"
   ]
  },
  {
   "cell_type": "code",
   "execution_count": 5,
   "id": "f0723f73",
   "metadata": {
    "execution": {
     "iopub.execute_input": "2024-07-18T02:54:28.800033Z",
     "iopub.status.busy": "2024-07-18T02:54:28.799594Z",
     "iopub.status.idle": "2024-07-18T02:54:28.813056Z",
     "shell.execute_reply": "2024-07-18T02:54:28.811761Z"
    },
    "papermill": {
     "duration": 0.023423,
     "end_time": "2024-07-18T02:54:28.815401",
     "exception": false,
     "start_time": "2024-07-18T02:54:28.791978",
     "status": "completed"
    },
    "tags": []
   },
   "outputs": [
    {
     "data": {
      "text/html": [
       "<div>\n",
       "<style scoped>\n",
       "    .dataframe tbody tr th:only-of-type {\n",
       "        vertical-align: middle;\n",
       "    }\n",
       "\n",
       "    .dataframe tbody tr th {\n",
       "        vertical-align: top;\n",
       "    }\n",
       "\n",
       "    .dataframe thead th {\n",
       "        text-align: right;\n",
       "    }\n",
       "</style>\n",
       "<table border=\"1\" class=\"dataframe\">\n",
       "  <thead>\n",
       "    <tr style=\"text-align: right;\">\n",
       "      <th></th>\n",
       "      <th>X</th>\n",
       "      <th>y</th>\n",
       "    </tr>\n",
       "  </thead>\n",
       "  <tbody>\n",
       "    <tr>\n",
       "      <th>0</th>\n",
       "      <td>6.1101</td>\n",
       "      <td>17.59200</td>\n",
       "    </tr>\n",
       "    <tr>\n",
       "      <th>1</th>\n",
       "      <td>5.5277</td>\n",
       "      <td>9.13020</td>\n",
       "    </tr>\n",
       "    <tr>\n",
       "      <th>2</th>\n",
       "      <td>8.5186</td>\n",
       "      <td>13.66200</td>\n",
       "    </tr>\n",
       "    <tr>\n",
       "      <th>3</th>\n",
       "      <td>7.0032</td>\n",
       "      <td>11.85400</td>\n",
       "    </tr>\n",
       "    <tr>\n",
       "      <th>4</th>\n",
       "      <td>5.8598</td>\n",
       "      <td>6.82330</td>\n",
       "    </tr>\n",
       "    <tr>\n",
       "      <th>...</th>\n",
       "      <td>...</td>\n",
       "      <td>...</td>\n",
       "    </tr>\n",
       "    <tr>\n",
       "      <th>92</th>\n",
       "      <td>5.8707</td>\n",
       "      <td>7.20290</td>\n",
       "    </tr>\n",
       "    <tr>\n",
       "      <th>93</th>\n",
       "      <td>5.3054</td>\n",
       "      <td>1.98690</td>\n",
       "    </tr>\n",
       "    <tr>\n",
       "      <th>94</th>\n",
       "      <td>8.2934</td>\n",
       "      <td>0.14454</td>\n",
       "    </tr>\n",
       "    <tr>\n",
       "      <th>95</th>\n",
       "      <td>13.3940</td>\n",
       "      <td>9.05510</td>\n",
       "    </tr>\n",
       "    <tr>\n",
       "      <th>96</th>\n",
       "      <td>5.4369</td>\n",
       "      <td>0.61705</td>\n",
       "    </tr>\n",
       "  </tbody>\n",
       "</table>\n",
       "<p>97 rows × 2 columns</p>\n",
       "</div>"
      ],
      "text/plain": [
       "          X         y\n",
       "0    6.1101  17.59200\n",
       "1    5.5277   9.13020\n",
       "2    8.5186  13.66200\n",
       "3    7.0032  11.85400\n",
       "4    5.8598   6.82330\n",
       "..      ...       ...\n",
       "92   5.8707   7.20290\n",
       "93   5.3054   1.98690\n",
       "94   8.2934   0.14454\n",
       "95  13.3940   9.05510\n",
       "96   5.4369   0.61705\n",
       "\n",
       "[97 rows x 2 columns]"
      ]
     },
     "execution_count": 5,
     "metadata": {},
     "output_type": "execute_result"
    }
   ],
   "source": [
    "df"
   ]
  },
  {
   "cell_type": "code",
   "execution_count": 6,
   "id": "0d8a7d0e",
   "metadata": {
    "execution": {
     "iopub.execute_input": "2024-07-18T02:54:28.829560Z",
     "iopub.status.busy": "2024-07-18T02:54:28.828767Z",
     "iopub.status.idle": "2024-07-18T02:54:28.834228Z",
     "shell.execute_reply": "2024-07-18T02:54:28.833183Z"
    },
    "papermill": {
     "duration": 0.014971,
     "end_time": "2024-07-18T02:54:28.836498",
     "exception": false,
     "start_time": "2024-07-18T02:54:28.821527",
     "status": "completed"
    },
    "tags": []
   },
   "outputs": [],
   "source": [
    "X = df['X'].values\n",
    "y = df['y'].values"
   ]
  },
  {
   "cell_type": "code",
   "execution_count": 7,
   "id": "21e7685f",
   "metadata": {
    "execution": {
     "iopub.execute_input": "2024-07-18T02:54:28.850248Z",
     "iopub.status.busy": "2024-07-18T02:54:28.849840Z",
     "iopub.status.idle": "2024-07-18T02:54:28.857300Z",
     "shell.execute_reply": "2024-07-18T02:54:28.856303Z"
    },
    "papermill": {
     "duration": 0.017075,
     "end_time": "2024-07-18T02:54:28.859747",
     "exception": false,
     "start_time": "2024-07-18T02:54:28.842672",
     "status": "completed"
    },
    "tags": []
   },
   "outputs": [
    {
     "data": {
      "text/plain": [
       "array([ 6.1101,  5.5277,  8.5186,  7.0032,  5.8598,  8.3829,  7.4764,\n",
       "        8.5781,  6.4862,  5.0546,  5.7107, 14.164 ,  5.734 ,  8.4084,\n",
       "        5.6407,  5.3794,  6.3654,  5.1301,  6.4296,  7.0708,  6.1891,\n",
       "       20.27  ,  5.4901,  6.3261,  5.5649, 18.945 , 12.828 , 10.957 ,\n",
       "       13.176 , 22.203 ,  5.2524,  6.5894,  9.2482,  5.8918,  8.2111,\n",
       "        7.9334,  8.0959,  5.6063, 12.836 ,  6.3534,  5.4069,  6.8825,\n",
       "       11.708 ,  5.7737,  7.8247,  7.0931,  5.0702,  5.8014, 11.7   ,\n",
       "        5.5416,  7.5402,  5.3077,  7.4239,  7.6031,  6.3328,  6.3589,\n",
       "        6.2742,  5.6397,  9.3102,  9.4536,  8.8254,  5.1793, 21.279 ,\n",
       "       14.908 , 18.959 ,  7.2182,  8.2951, 10.236 ,  5.4994, 20.341 ,\n",
       "       10.136 ,  7.3345,  6.0062,  7.2259,  5.0269,  6.5479,  7.5386,\n",
       "        5.0365, 10.274 ,  5.1077,  5.7292,  5.1884,  6.3557,  9.7687,\n",
       "        6.5159,  8.5172,  9.1802,  6.002 ,  5.5204,  5.0594,  5.7077,\n",
       "        7.6366,  5.8707,  5.3054,  8.2934, 13.394 ,  5.4369])"
      ]
     },
     "execution_count": 7,
     "metadata": {},
     "output_type": "execute_result"
    }
   ],
   "source": [
    "X"
   ]
  },
  {
   "cell_type": "code",
   "execution_count": 8,
   "id": "3dcaa34f",
   "metadata": {
    "execution": {
     "iopub.execute_input": "2024-07-18T02:54:28.873748Z",
     "iopub.status.busy": "2024-07-18T02:54:28.873386Z",
     "iopub.status.idle": "2024-07-18T02:54:28.881107Z",
     "shell.execute_reply": "2024-07-18T02:54:28.879979Z"
    },
    "papermill": {
     "duration": 0.017647,
     "end_time": "2024-07-18T02:54:28.883466",
     "exception": false,
     "start_time": "2024-07-18T02:54:28.865819",
     "status": "completed"
    },
    "tags": []
   },
   "outputs": [
    {
     "data": {
      "text/plain": [
       "array([17.592  ,  9.1302 , 13.662  , 11.854  ,  6.8233 , 11.886  ,\n",
       "        4.3483 , 12.     ,  6.5987 ,  3.8166 ,  3.2522 , 15.505  ,\n",
       "        3.1551 ,  7.2258 ,  0.71618,  3.5129 ,  5.3048 ,  0.56077,\n",
       "        3.6518 ,  5.3893 ,  3.1386 , 21.767  ,  4.263  ,  5.1875 ,\n",
       "        3.0825 , 22.638  , 13.501  ,  7.0467 , 14.692  , 24.147  ,\n",
       "       -1.22   ,  5.9966 , 12.134  ,  1.8495 ,  6.5426 ,  4.5623 ,\n",
       "        4.1164 ,  3.3928 , 10.117  ,  5.4974 ,  0.55657,  3.9115 ,\n",
       "        5.3854 ,  2.4406 ,  6.7318 ,  1.0463 ,  5.1337 ,  1.844  ,\n",
       "        8.0043 ,  1.0179 ,  6.7504 ,  1.8396 ,  4.2885 ,  4.9981 ,\n",
       "        1.4233 , -1.4211 ,  2.4756 ,  4.6042 ,  3.9624 ,  5.4141 ,\n",
       "        5.1694 , -0.74279, 17.929  , 12.054  , 17.054  ,  4.8852 ,\n",
       "        5.7442 ,  7.7754 ,  1.0173 , 20.992  ,  6.6799 ,  4.0259 ,\n",
       "        1.2784 ,  3.3411 , -2.6807 ,  0.29678,  3.8845 ,  5.7014 ,\n",
       "        6.7526 ,  2.0576 ,  0.47953,  0.20421,  0.67861,  7.5435 ,\n",
       "        5.3436 ,  4.2415 ,  6.7981 ,  0.92695,  0.152  ,  2.8214 ,\n",
       "        1.8451 ,  4.2959 ,  7.2029 ,  1.9869 ,  0.14454,  9.0551 ,\n",
       "        0.61705])"
      ]
     },
     "execution_count": 8,
     "metadata": {},
     "output_type": "execute_result"
    }
   ],
   "source": [
    "y"
   ]
  },
  {
   "cell_type": "code",
   "execution_count": 9,
   "id": "4b32eb29",
   "metadata": {
    "execution": {
     "iopub.execute_input": "2024-07-18T02:54:28.897842Z",
     "iopub.status.busy": "2024-07-18T02:54:28.897403Z",
     "iopub.status.idle": "2024-07-18T02:54:28.902603Z",
     "shell.execute_reply": "2024-07-18T02:54:28.901528Z"
    },
    "papermill": {
     "duration": 0.015192,
     "end_time": "2024-07-18T02:54:28.905016",
     "exception": false,
     "start_time": "2024-07-18T02:54:28.889824",
     "status": "completed"
    },
    "tags": []
   },
   "outputs": [],
   "source": [
    "X0 = np.ones(len(df))"
   ]
  },
  {
   "cell_type": "code",
   "execution_count": 10,
   "id": "a2daf90f",
   "metadata": {
    "execution": {
     "iopub.execute_input": "2024-07-18T02:54:28.920106Z",
     "iopub.status.busy": "2024-07-18T02:54:28.919688Z",
     "iopub.status.idle": "2024-07-18T02:54:28.927317Z",
     "shell.execute_reply": "2024-07-18T02:54:28.926321Z"
    },
    "papermill": {
     "duration": 0.017854,
     "end_time": "2024-07-18T02:54:28.929512",
     "exception": false,
     "start_time": "2024-07-18T02:54:28.911658",
     "status": "completed"
    },
    "tags": []
   },
   "outputs": [
    {
     "data": {
      "text/plain": [
       "array([1., 1., 1., 1., 1., 1., 1., 1., 1., 1., 1., 1., 1., 1., 1., 1., 1.,\n",
       "       1., 1., 1., 1., 1., 1., 1., 1., 1., 1., 1., 1., 1., 1., 1., 1., 1.,\n",
       "       1., 1., 1., 1., 1., 1., 1., 1., 1., 1., 1., 1., 1., 1., 1., 1., 1.,\n",
       "       1., 1., 1., 1., 1., 1., 1., 1., 1., 1., 1., 1., 1., 1., 1., 1., 1.,\n",
       "       1., 1., 1., 1., 1., 1., 1., 1., 1., 1., 1., 1., 1., 1., 1., 1., 1.,\n",
       "       1., 1., 1., 1., 1., 1., 1., 1., 1., 1., 1., 1.])"
      ]
     },
     "execution_count": 10,
     "metadata": {},
     "output_type": "execute_result"
    }
   ],
   "source": [
    "X0"
   ]
  },
  {
   "cell_type": "code",
   "execution_count": 11,
   "id": "0c79ac34",
   "metadata": {
    "execution": {
     "iopub.execute_input": "2024-07-18T02:54:28.944129Z",
     "iopub.status.busy": "2024-07-18T02:54:28.943269Z",
     "iopub.status.idle": "2024-07-18T02:54:28.949917Z",
     "shell.execute_reply": "2024-07-18T02:54:28.948904Z"
    },
    "papermill": {
     "duration": 0.016358,
     "end_time": "2024-07-18T02:54:28.952170",
     "exception": false,
     "start_time": "2024-07-18T02:54:28.935812",
     "status": "completed"
    },
    "tags": []
   },
   "outputs": [
    {
     "data": {
      "text/plain": [
       "1"
      ]
     },
     "execution_count": 11,
     "metadata": {},
     "output_type": "execute_result"
    }
   ],
   "source": [
    "theta = np.zeros((2))\n",
    "theta.ndim"
   ]
  },
  {
   "cell_type": "code",
   "execution_count": 12,
   "id": "06383028",
   "metadata": {
    "execution": {
     "iopub.execute_input": "2024-07-18T02:54:28.967117Z",
     "iopub.status.busy": "2024-07-18T02:54:28.966435Z",
     "iopub.status.idle": "2024-07-18T02:54:28.973179Z",
     "shell.execute_reply": "2024-07-18T02:54:28.972224Z"
    },
    "papermill": {
     "duration": 0.016635,
     "end_time": "2024-07-18T02:54:28.975336",
     "exception": false,
     "start_time": "2024-07-18T02:54:28.958701",
     "status": "completed"
    },
    "tags": []
   },
   "outputs": [
    {
     "data": {
      "text/plain": [
       "(2, 97)"
      ]
     },
     "execution_count": 12,
     "metadata": {},
     "output_type": "execute_result"
    }
   ],
   "source": [
    "# We have to combine X and X0 \n",
    "Xcom = np.array([X0,X])\n",
    "Xcom.shape"
   ]
  },
  {
   "cell_type": "code",
   "execution_count": 13,
   "id": "de489d4c",
   "metadata": {
    "execution": {
     "iopub.execute_input": "2024-07-18T02:54:28.990319Z",
     "iopub.status.busy": "2024-07-18T02:54:28.989612Z",
     "iopub.status.idle": "2024-07-18T02:54:28.996543Z",
     "shell.execute_reply": "2024-07-18T02:54:28.995422Z"
    },
    "papermill": {
     "duration": 0.016771,
     "end_time": "2024-07-18T02:54:28.998662",
     "exception": false,
     "start_time": "2024-07-18T02:54:28.981891",
     "status": "completed"
    },
    "tags": []
   },
   "outputs": [
    {
     "data": {
      "text/plain": [
       "((2,), (97,))"
      ]
     },
     "execution_count": 13,
     "metadata": {},
     "output_type": "execute_result"
    }
   ],
   "source": [
    "theta.shape, X.shape"
   ]
  },
  {
   "cell_type": "markdown",
   "id": "8c82f2c1",
   "metadata": {
    "papermill": {
     "duration": 0.006264,
     "end_time": "2024-07-18T02:54:29.012339",
     "exception": false,
     "start_time": "2024-07-18T02:54:29.006075",
     "status": "completed"
    },
    "tags": []
   },
   "source": [
    "Df"
   ]
  },
  {
   "cell_type": "code",
   "execution_count": 14,
   "id": "0399233a",
   "metadata": {
    "execution": {
     "iopub.execute_input": "2024-07-18T02:54:29.027723Z",
     "iopub.status.busy": "2024-07-18T02:54:29.026911Z",
     "iopub.status.idle": "2024-07-18T02:54:29.038028Z",
     "shell.execute_reply": "2024-07-18T02:54:29.036944Z"
    },
    "papermill": {
     "duration": 0.021526,
     "end_time": "2024-07-18T02:54:29.040397",
     "exception": false,
     "start_time": "2024-07-18T02:54:29.018871",
     "status": "completed"
    },
    "tags": []
   },
   "outputs": [
    {
     "data": {
      "text/html": [
       "<div>\n",
       "<style scoped>\n",
       "    .dataframe tbody tr th:only-of-type {\n",
       "        vertical-align: middle;\n",
       "    }\n",
       "\n",
       "    .dataframe tbody tr th {\n",
       "        vertical-align: top;\n",
       "    }\n",
       "\n",
       "    .dataframe thead th {\n",
       "        text-align: right;\n",
       "    }\n",
       "</style>\n",
       "<table border=\"1\" class=\"dataframe\">\n",
       "  <thead>\n",
       "    <tr style=\"text-align: right;\">\n",
       "      <th></th>\n",
       "      <th>X</th>\n",
       "      <th>y</th>\n",
       "    </tr>\n",
       "  </thead>\n",
       "  <tbody>\n",
       "    <tr>\n",
       "      <th>0</th>\n",
       "      <td>6.1101</td>\n",
       "      <td>17.5920</td>\n",
       "    </tr>\n",
       "    <tr>\n",
       "      <th>1</th>\n",
       "      <td>5.5277</td>\n",
       "      <td>9.1302</td>\n",
       "    </tr>\n",
       "    <tr>\n",
       "      <th>2</th>\n",
       "      <td>8.5186</td>\n",
       "      <td>13.6620</td>\n",
       "    </tr>\n",
       "    <tr>\n",
       "      <th>3</th>\n",
       "      <td>7.0032</td>\n",
       "      <td>11.8540</td>\n",
       "    </tr>\n",
       "    <tr>\n",
       "      <th>4</th>\n",
       "      <td>5.8598</td>\n",
       "      <td>6.8233</td>\n",
       "    </tr>\n",
       "  </tbody>\n",
       "</table>\n",
       "</div>"
      ],
      "text/plain": [
       "        X        y\n",
       "0  6.1101  17.5920\n",
       "1  5.5277   9.1302\n",
       "2  8.5186  13.6620\n",
       "3  7.0032  11.8540\n",
       "4  5.8598   6.8233"
      ]
     },
     "execution_count": 14,
     "metadata": {},
     "output_type": "execute_result"
    }
   ],
   "source": [
    "df.head()"
   ]
  },
  {
   "cell_type": "code",
   "execution_count": 15,
   "id": "b3c51a8d",
   "metadata": {
    "execution": {
     "iopub.execute_input": "2024-07-18T02:54:29.056130Z",
     "iopub.status.busy": "2024-07-18T02:54:29.055446Z",
     "iopub.status.idle": "2024-07-18T02:54:29.061844Z",
     "shell.execute_reply": "2024-07-18T02:54:29.060907Z"
    },
    "papermill": {
     "duration": 0.016505,
     "end_time": "2024-07-18T02:54:29.063977",
     "exception": false,
     "start_time": "2024-07-18T02:54:29.047472",
     "status": "completed"
    },
    "tags": []
   },
   "outputs": [
    {
     "data": {
      "text/plain": [
       "(97,)"
      ]
     },
     "execution_count": 15,
     "metadata": {},
     "output_type": "execute_result"
    }
   ],
   "source": [
    "y.shape"
   ]
  },
  {
   "cell_type": "code",
   "execution_count": 16,
   "id": "3786f5a7",
   "metadata": {
    "execution": {
     "iopub.execute_input": "2024-07-18T02:54:29.079732Z",
     "iopub.status.busy": "2024-07-18T02:54:29.078661Z",
     "iopub.status.idle": "2024-07-18T02:54:29.110215Z",
     "shell.execute_reply": "2024-07-18T02:54:29.109040Z"
    },
    "papermill": {
     "duration": 0.042079,
     "end_time": "2024-07-18T02:54:29.112779",
     "exception": false,
     "start_time": "2024-07-18T02:54:29.070700",
     "status": "completed"
    },
    "tags": []
   },
   "outputs": [],
   "source": [
    "class LinearRegression:\n",
    "    def __init__(self, n_iterations=1000, learning_rate=0.01):\n",
    "        self.n_iterations = n_iterations\n",
    "        self.learning_rate = learning_rate\n",
    "        self.w = None\n",
    "        self.b = None\n",
    "\n",
    "    def fit(self, X, y):\n",
    "        np.random.seed(42)\n",
    "        m, n = X.shape\n",
    "        self.w = np.random.randn(n, 1)\n",
    "        self.b = np.zeros((1,))\n",
    "        \n",
    "        for i in range(self.n_iterations):\n",
    "            y_pred = self.predict(X)\n",
    "            dw = -2/m * np.dot(X.T, (y - y_pred))\n",
    "            db = -2/m * np.sum(y - y_pred)\n",
    "            self.w -= self.learning_rate * dw\n",
    "            self.b -= self.learning_rate * db\n",
    "\n",
    "    def predict(self, X):\n",
    "        return np.dot(X, self.w) + self.b\n",
    "    \n",
    "    def coeff(self):\n",
    "        return self.w,self.b\n",
    "    \n",
    "# Train the Linear Regression model\n",
    "model = LinearRegression(n_iterations=1000, learning_rate=0.01)\n",
    "model.fit(X.reshape(97,1), y.reshape(97,1))"
   ]
  },
  {
   "cell_type": "code",
   "execution_count": 17,
   "id": "dad18660",
   "metadata": {
    "execution": {
     "iopub.execute_input": "2024-07-18T02:54:29.128770Z",
     "iopub.status.busy": "2024-07-18T02:54:29.127907Z",
     "iopub.status.idle": "2024-07-18T02:54:29.159041Z",
     "shell.execute_reply": "2024-07-18T02:54:29.157939Z"
    },
    "papermill": {
     "duration": 0.041799,
     "end_time": "2024-07-18T02:54:29.161523",
     "exception": false,
     "start_time": "2024-07-18T02:54:29.119724",
     "status": "completed"
    },
    "tags": []
   },
   "outputs": [],
   "source": [
    "class mylinreg:\n",
    "    def __init__(self, iterations=1000, lr = 0.001):\n",
    "        self.iterations = iterations\n",
    "        self.lr = lr\n",
    "        self.w = None\n",
    "        self.b = None\n",
    "    \n",
    "    def fit(self,X,y):\n",
    "#         X = X.reshape(len(X), X.ndim)\n",
    "#         y = y.reshape(len(y), y.ndim)\n",
    "        np.random.seed(42)\n",
    "        m,n = X.shape\n",
    "        self.w = np.random.randn(n,1)\n",
    "        self.b = np.zeros((1,))\n",
    "        \n",
    "        for i in range(self.iterations):\n",
    "            y_pred = self.predict(X)\n",
    "            dw = -2/m * np.dot(X.T, (y - y_pred))\n",
    "            db = -2/m * np.sum(y - y_pred)\n",
    "            self.w -= self.lr * dw\n",
    "            self.b -= self.lr * db\n",
    "\n",
    "    def coeff(self):\n",
    "        return (self.w, self.b)\n",
    "    \n",
    "    def predict(self,X):\n",
    "        return np.dot(X,self.w) + self.b\n",
    "    \n",
    "lin_reg = mylinreg()\n",
    "lin_reg.fit(X.reshape(97,1), y.reshape(97,1))"
   ]
  },
  {
   "cell_type": "code",
   "execution_count": 18,
   "id": "33315beb",
   "metadata": {
    "execution": {
     "iopub.execute_input": "2024-07-18T02:54:29.177551Z",
     "iopub.status.busy": "2024-07-18T02:54:29.176568Z",
     "iopub.status.idle": "2024-07-18T02:54:29.515513Z",
     "shell.execute_reply": "2024-07-18T02:54:29.514337Z"
    },
    "papermill": {
     "duration": 0.349437,
     "end_time": "2024-07-18T02:54:29.517817",
     "exception": false,
     "start_time": "2024-07-18T02:54:29.168380",
     "status": "completed"
    },
    "tags": []
   },
   "outputs": [
    {
     "data": {
      "image/png": "[encoded data removed]",
      "text/plain": [
       "<Figure size 640x480 with 1 Axes>"
      ]
     },
     "metadata": {},
     "output_type": "display_data"
    }
   ],
   "source": [
    "X_line = np.linspace(df['X'].min(), df['X'].max(), 97)\n",
    "# X_line.shapey\n",
    "# y_pred = lin_reg.predict(X_line.reshape(97,1))\n",
    "plt.plot(X_line,  lin_reg.predict(X_line.reshape(97,1)), color='red', label='Reg from Scratch')\n",
    "plt.plot(X_line,  model.predict(X_line.reshape(97,1)), color='green', label='Reg from GPT')\n",
    "plt.scatter(X, y, color='blue', label='Data points')\n",
    "\n",
    "plt.xlabel('X')\n",
    "plt.ylabel('y')\n",
    "plt.title('Linear Regression Fit')\n",
    "plt.legend()\n",
    "plt.show()"
   ]
  },
  {
   "cell_type": "code",
   "execution_count": 19,
   "id": "d28900e6",
   "metadata": {
    "execution": {
     "iopub.execute_input": "2024-07-18T02:54:29.535155Z",
     "iopub.status.busy": "2024-07-18T02:54:29.534369Z",
     "iopub.status.idle": "2024-07-18T02:54:29.541778Z",
     "shell.execute_reply": "2024-07-18T02:54:29.540806Z"
    },
    "papermill": {
     "duration": 0.018281,
     "end_time": "2024-07-18T02:54:29.543809",
     "exception": false,
     "start_time": "2024-07-18T02:54:29.525528",
     "status": "completed"
    },
    "tags": []
   },
   "outputs": [
    {
     "data": {
      "text/plain": [
       "(array([[0.91801662]]), array([-1.15822659]))"
      ]
     },
     "execution_count": 19,
     "metadata": {},
     "output_type": "execute_result"
    }
   ],
   "source": [
    "lin_reg.coeff()"
   ]
  },
  {
   "cell_type": "code",
   "execution_count": 20,
   "id": "e2bed6e4",
   "metadata": {
    "execution": {
     "iopub.execute_input": "2024-07-18T02:54:29.560640Z",
     "iopub.status.busy": "2024-07-18T02:54:29.560262Z",
     "iopub.status.idle": "2024-07-18T02:54:29.566928Z",
     "shell.execute_reply": "2024-07-18T02:54:29.565983Z"
    },
    "papermill": {
     "duration": 0.017579,
     "end_time": "2024-07-18T02:54:29.568989",
     "exception": false,
     "start_time": "2024-07-18T02:54:29.551410",
     "status": "completed"
    },
    "tags": []
   },
   "outputs": [
    {
     "data": {
      "text/plain": [
       "(array([[1.18238203]]), array([-3.78975339]))"
      ]
     },
     "execution_count": 20,
     "metadata": {},
     "output_type": "execute_result"
    }
   ],
   "source": [
    "model.coeff()"
   ]
  },
  {
   "cell_type": "code",
   "execution_count": null,
   "id": "471e7768",
   "metadata": {
    "papermill": {
     "duration": 0.007373,
     "end_time": "2024-07-18T02:54:29.584099",
     "exception": false,
     "start_time": "2024-07-18T02:54:29.576726",
     "status": "completed"
    },
    "tags": []
   },
   "outputs": [],
   "source": []
  }
 ],
 "metadata": {
  "kaggle": {
   "accelerator": "none",
   "dataSources": [
    {
     "datasetId": 96201,
     "sourceId": 224801,
     "sourceType": "datasetVersion"
    }
   ],
   "isGpuEnabled": false,
   "isInternetEnabled": true,
   "language": "python",
   "sourceType": "notebook"
  },
  "kernelspec": {
   "display_name": "Python 3",
   "language": "python",
   "name": "python3"
  },
  "language_info": {
   "codemirror_mode": {
    "name": "ipython",
    "version": 3
   },
   "file_extension": ".py",
   "mimetype": "text/x-python",
   "name": "python",
   "nbconvert_exporter": "python",
   "pygments_lexer": "ipython3",
   "version": "3.10.13"
  },
  "papermill": {
   "default_parameters": {},
   "duration": 4.923551,
   "end_time": "2024-07-18T02:54:30.011582",
   "environment_variables": {},
   "exception": null,
   "input_path": "__notebook__.ipynb",
   "output_path": "__notebook__.ipynb",
   "parameters": {},
   "start_time": "2024-07-18T02:54:25.088031",
   "version": "2.5.0"
  }
 },
 "nbformat": 4,
 "nbformat_minor": 5
}
